{
 "cells": [
  {
   "cell_type": "code",
   "execution_count": 1,
   "id": "2e237db3-257d-4caa-9c98-b9e54dd59c82",
   "metadata": {},
   "outputs": [],
   "source": [
    "import numpy as np \n",
    "import pandas as pd\n",
    "import matplotlib.pyplot as plt\n",
    "import scipy\n",
    "import seaborn as sns\n",
    "%matplotlib inline\n",
    "plt.rcParams['font.sans-serif'] = ['SimHei']  "
   ]
  },
  {
   "cell_type": "code",
   "execution_count": 2,
   "id": "b12f3e57-03e7-4db4-afcd-1d539d0c13eb",
   "metadata": {},
   "outputs": [],
   "source": [
    "cust_id_location = pd.read_csv('olist_customers_dataset.csv')\n",
    "order_items = pd.read_csv('olist_order_items_dataset.csv')\n",
    "product_metadata=pd.read_csv('olist_products_dataset.csv')\n",
    "english_name = pd.read_csv('product_category_name_translation.csv')\n",
    "ord_fulfillment_timeline = pd.read_csv('olist_orders_dataset.csv')\n",
    "ord_reviews = pd.read_csv('olist_order_reviews_dataset.csv')\n",
    "sellers = pd.read_csv('olist_sellers_dataset.csv')\n",
    "pay_data = pd.read_csv('olist_order_payments_dataset.csv')\n",
    "zip_code = pd.read_csv('olist_geolocation_dataset.csv')"
   ]
  },
  {
   "cell_type": "code",
   "execution_count": 3,
   "id": "3cb78cf5-2234-49bf-b3a5-1d16571ba2d4",
   "metadata": {},
   "outputs": [
    {
     "name": "stdout",
     "output_type": "stream",
     "text": [
      "<class 'pandas.core.frame.DataFrame'>\n",
      "RangeIndex: 99441 entries, 0 to 99440\n",
      "Data columns (total 5 columns):\n",
      " #   Column                    Non-Null Count  Dtype \n",
      "---  ------                    --------------  ----- \n",
      " 0   customer_id               99441 non-null  object\n",
      " 1   customer_unique_id        99441 non-null  object\n",
      " 2   customer_zip_code_prefix  99441 non-null  int64 \n",
      " 3   customer_city             99441 non-null  object\n",
      " 4   customer_state            99441 non-null  object\n",
      "dtypes: int64(1), object(4)\n",
      "memory usage: 3.8+ MB\n",
      "None\n"
     ]
    }
   ],
   "source": [
    "print(cust_id_location.info())"
   ]
  },
  {
   "cell_type": "code",
   "execution_count": 4,
   "id": "6a8f5dd6-7a5e-4dce-80a7-ce6e16b0e59e",
   "metadata": {},
   "outputs": [
    {
     "name": "stdout",
     "output_type": "stream",
     "text": [
      "customer_id                 0\n",
      "customer_unique_id          0\n",
      "customer_zip_code_prefix    0\n",
      "customer_city               0\n",
      "customer_state              0\n",
      "dtype: int64\n"
     ]
    }
   ],
   "source": [
    "print(cust_id_location.isnull().sum())"
   ]
  },
  {
   "cell_type": "code",
   "execution_count": 5,
   "id": "353dc6c7-18cd-42ae-97ab-80c622601900",
   "metadata": {},
   "outputs": [
    {
     "data": {
      "text/plain": [
       "False    99441\n",
       "Name: count, dtype: int64"
      ]
     },
     "execution_count": 5,
     "metadata": {},
     "output_type": "execute_result"
    }
   ],
   "source": [
    "cust_id_location.duplicated().value_counts()"
   ]
  },
  {
   "cell_type": "raw",
   "id": "9cfbd054-4b1f-4564-8a38-59daa2017c8a",
   "metadata": {},
   "source": [
    "#根据地区分类查看客户地区分别\n",
    "loc_cust = cust_id_location.groupby('customer_state').count().sort_values('customer_id',ascending=False)\n",
    "print(loc_cust['customer_id'])\n",
    "loc_cust['customer_id'].plot(kind = 'bar')"
   ]
  },
  {
   "cell_type": "code",
   "execution_count": 6,
   "id": "091fba92-50c0-4d59-b09f-d7291c477761",
   "metadata": {},
   "outputs": [
    {
     "name": "stdout",
     "output_type": "stream",
     "text": [
      "<class 'pandas.core.frame.DataFrame'>\n",
      "RangeIndex: 32951 entries, 0 to 32950\n",
      "Data columns (total 9 columns):\n",
      " #   Column                      Non-Null Count  Dtype  \n",
      "---  ------                      --------------  -----  \n",
      " 0   product_id                  32951 non-null  object \n",
      " 1   product_category_name       32341 non-null  object \n",
      " 2   product_name_lenght         32341 non-null  float64\n",
      " 3   product_description_lenght  32341 non-null  float64\n",
      " 4   product_photos_qty          32341 non-null  float64\n",
      " 5   product_weight_g            32949 non-null  float64\n",
      " 6   product_length_cm           32949 non-null  float64\n",
      " 7   product_height_cm           32949 non-null  float64\n",
      " 8   product_width_cm            32949 non-null  float64\n",
      "dtypes: float64(7), object(2)\n",
      "memory usage: 2.3+ MB\n",
      "None\n"
     ]
    }
   ],
   "source": [
    "#产品数据，将英文名称付给产品\n",
    "print(product_metadata.info())"
   ]
  },
  {
   "cell_type": "code",
   "execution_count": 7,
   "id": "204a1fd8-9394-40e1-b8aa-f3fd8042d1ba",
   "metadata": {},
   "outputs": [
    {
     "name": "stdout",
     "output_type": "stream",
     "text": [
      "                         product_id product_category_name  \\\n",
      "0  1e9e8ef04dbcff4541ed26657ea517e5            perfumaria   \n",
      "1  3aa071139cb16b67ca9e5dea641aaa2f                 artes   \n",
      "2  96bd76ec8810374ed1b65e291975717f         esporte_lazer   \n",
      "\n",
      "   product_name_lenght  product_description_lenght  product_photos_qty  \\\n",
      "0                 40.0                       287.0                 1.0   \n",
      "1                 44.0                       276.0                 1.0   \n",
      "2                 46.0                       250.0                 1.0   \n",
      "\n",
      "   product_weight_g  product_length_cm  product_height_cm  product_width_cm  \\\n",
      "0             225.0               16.0               10.0              14.0   \n",
      "1            1000.0               30.0               18.0              20.0   \n",
      "2             154.0               18.0                9.0              15.0   \n",
      "\n",
      "  product_category_name_english  \n",
      "0                     perfumery  \n",
      "1                           art  \n",
      "2                sports_leisure  \n"
     ]
    }
   ],
   "source": [
    "product_meta_data = pd.merge(product_metadata,english_name,on = 'product_category_name')\n",
    "print(product_meta_data.head(3))\n",
    "product_meta_data.to_csv('product_meta_data.csv',index = False)"
   ]
  },
  {
   "cell_type": "code",
   "execution_count": 8,
   "id": "debad5d5-ba59-4c8b-b0fc-45485f257f48",
   "metadata": {},
   "outputs": [
    {
     "name": "stdout",
     "output_type": "stream",
     "text": [
      "<class 'pandas.core.frame.DataFrame'>\n",
      "RangeIndex: 112650 entries, 0 to 112649\n",
      "Data columns (total 7 columns):\n",
      " #   Column               Non-Null Count   Dtype  \n",
      "---  ------               --------------   -----  \n",
      " 0   order_id             112650 non-null  object \n",
      " 1   order_item_id        112650 non-null  int64  \n",
      " 2   product_id           112650 non-null  object \n",
      " 3   seller_id            112650 non-null  object \n",
      " 4   shipping_limit_date  112650 non-null  object \n",
      " 5   price                112650 non-null  float64\n",
      " 6   freight_value        112650 non-null  float64\n",
      "dtypes: float64(2), int64(1), object(4)\n",
      "memory usage: 6.0+ MB\n",
      "None\n"
     ]
    }
   ],
   "source": [
    "#对order——intems表进行处理，可能要得到订单的总价值等信息表\n",
    "print(order_items.info())"
   ]
  },
  {
   "cell_type": "code",
   "execution_count": 9,
   "id": "c0747b34-2615-4ec3-8e69-fc8f01680dfb",
   "metadata": {},
   "outputs": [],
   "source": [
    "#时间处理\n",
    "order_items['shipping_limit_date'] = pd.to_datetime(order_items['shipping_limit_date'],format='mixed') "
   ]
  },
  {
   "cell_type": "code",
   "execution_count": 10,
   "id": "5fc91fa8-a7bc-48b3-9339-98693051eef7",
   "metadata": {},
   "outputs": [
    {
     "name": "stdout",
     "output_type": "stream",
     "text": [
      "                                order_id  order_item_id  \\\n",
      "0       00010242fe8c5a6d1ba2dd792cb16214              1   \n",
      "1       00018f77f2f0320c557190d7a144bdd3              1   \n",
      "2       000229ec398224ef6ca0657da4fc703e              1   \n",
      "3       00024acbcdf0a6daa1e931b038114c75              1   \n",
      "4       00042b26cf59d7ce69dfabb4e55b4fd9              1   \n",
      "...                                  ...            ...   \n",
      "112645  fffc94f6ce00a00581880bf54a75a037              1   \n",
      "112646  fffcd46ef2263f404302a634eb57f7eb              1   \n",
      "112647  fffce4705a9662cd70adb13d4a31832d              1   \n",
      "112648  fffe18544ffabc95dfada21779c9644f              1   \n",
      "112649  fffe41c64501cc87c801fd61db3f6244              1   \n",
      "\n",
      "                              product_id                         seller_id  \\\n",
      "0       4244733e06e7ecb4970a6e2683c13e61  48436dade18ac8b2bce089ec2a041202   \n",
      "1       e5f2d52b802189ee658865ca93d83a8f  dd7ddc04e1b6c2c614352b383efe2d36   \n",
      "2       c777355d18b72b67abbeef9df44fd0fd  5b51032eddd242adc84c38acab88f23d   \n",
      "3       7634da152a4610f1595efa32f14722fc  9d7a1d34a5052409006425275ba1c2b4   \n",
      "4       ac6c3623068f30de03045865e4e10089  df560393f3a51e74553ab94004ba5c87   \n",
      "...                                  ...                               ...   \n",
      "112645  4aa6014eceb682077f9dc4bffebc05b0  b8bc237ba3788b23da09c0f1f3a3288c   \n",
      "112646  32e07fd915822b0765e448c4dd74c828  f3c38ab652836d21de61fb8314b69182   \n",
      "112647  72a30483855e2eafc67aee5dc2560482  c3cfdc648177fdbbbb35635a37472c53   \n",
      "112648  9c422a519119dcad7575db5af1ba540e  2b3e4a2a3ea8e01938cabda2a3e5cc79   \n",
      "112649  350688d9dc1e75ff97be326363655e01  f7ccf836d21b2fb1de37564105216cc1   \n",
      "\n",
      "       shipping_limit_date   price  freight_value  \n",
      "0      2017-09-19 09:45:35   58.90          13.29  \n",
      "1      2017-05-03 11:05:13  239.90          19.93  \n",
      "2      2018-01-18 14:48:30  199.00          17.87  \n",
      "3      2018-08-15 10:10:18   12.99          12.79  \n",
      "4      2017-02-13 13:57:51  199.90          18.14  \n",
      "...                    ...     ...            ...  \n",
      "112645 2018-05-02 04:11:01  299.99          43.41  \n",
      "112646 2018-07-20 04:31:48  350.00          36.53  \n",
      "112647 2017-10-30 17:14:25   99.90          16.95  \n",
      "112648 2017-08-21 00:04:32   55.99           8.72  \n",
      "112649 2018-06-12 17:10:13   43.00          12.79  \n",
      "\n",
      "[112650 rows x 7 columns]\n"
     ]
    }
   ],
   "source": [
    "print(order_items)"
   ]
  },
  {
   "cell_type": "code",
   "execution_count": 11,
   "id": "f31072a7-6c86-4c20-aff6-69e48f16456a",
   "metadata": {},
   "outputs": [
    {
     "name": "stdout",
     "output_type": "stream",
     "text": [
      "order_id               0\n",
      "order_item_id          0\n",
      "product_id             0\n",
      "seller_id              0\n",
      "shipping_limit_date    0\n",
      "price                  0\n",
      "freight_value          0\n",
      "dtype: int64\n"
     ]
    }
   ],
   "source": [
    "#处理空值\n",
    "print(order_items.isnull().sum())"
   ]
  },
  {
   "cell_type": "code",
   "execution_count": 12,
   "id": "778cdb44-63c0-44e6-9438-2cd63d61fbe5",
   "metadata": {},
   "outputs": [
    {
     "name": "stdout",
     "output_type": "stream",
     "text": [
      "Empty DataFrame\n",
      "Columns: [min, max, count, expected_max]\n",
      "Index: []\n",
      "存在序列号不连续的订单数：0\n"
     ]
    }
   ],
   "source": [
    "#检查每个订单编号\n",
    "# 确保每个订单的Sequential Number连续且唯一\n",
    "df_grouped = order_items.groupby('order_id')['order_item_id'].agg(['min', 'max', 'count'])\n",
    "df_grouped['expected_max'] = df_grouped['count']\n",
    "invalid_orders = df_grouped[df_grouped['max'] != df_grouped['expected_max']]\n",
    "print(invalid_orders)\n",
    "print(f\"存在序列号不连续的订单数：{len(invalid_orders)}\")"
   ]
  },
  {
   "cell_type": "code",
   "execution_count": 13,
   "id": "383efa80-40e2-4b9a-86a8-ca39a2284e30",
   "metadata": {},
   "outputs": [
    {
     "name": "stdout",
     "output_type": "stream",
     "text": [
      "Empty DataFrame\n",
      "Columns: [order_id, order_item_id, product_id, seller_id, shipping_limit_date, price, freight_value]\n",
      "Index: []\n"
     ]
    }
   ],
   "source": [
    "# 检测价格异常（如负值或超过3倍标准差）\n",
    "price_mean = order_items['price'].mean()\n",
    "price_std = order_items['price'].std()\n",
    "invalid_price = order_items[(order_items['price']<0)&(order_items['price']>price_mean+3*price_std)]\n",
    "print(invalid_price)\n",
    "invalid_fr_values = order_items[(order_items['freight_value']<0)]"
   ]
  },
  {
   "cell_type": "code",
   "execution_count": 14,
   "id": "1d097124-1b03-4070-8779-478e6f9e82d8",
   "metadata": {},
   "outputs": [
    {
     "name": "stdout",
     "output_type": "stream",
     "text": [
      "<class 'pandas.core.frame.DataFrame'>\n",
      "RangeIndex: 112650 entries, 0 to 112649\n",
      "Data columns (total 7 columns):\n",
      " #   Column               Non-Null Count   Dtype         \n",
      "---  ------               --------------   -----         \n",
      " 0   order_id             112650 non-null  object        \n",
      " 1   order_item_id        112650 non-null  int64         \n",
      " 2   product_id           112650 non-null  object        \n",
      " 3   seller_id            112650 non-null  object        \n",
      " 4   shipping_limit_date  112650 non-null  datetime64[ns]\n",
      " 5   price                112650 non-null  float64       \n",
      " 6   freight_value        112650 non-null  float64       \n",
      "dtypes: datetime64[ns](1), float64(2), int64(1), object(3)\n",
      "memory usage: 6.0+ MB\n",
      "None\n"
     ]
    }
   ],
   "source": [
    "print(order_items.info())\n",
    "order_items['one_value'] = order_items['price']+order_items['freight_value']"
   ]
  },
  {
   "cell_type": "code",
   "execution_count": 15,
   "id": "191ab32a-68c0-4d08-a8ae-a7cd4bebd624",
   "metadata": {},
   "outputs": [
    {
     "name": "stdout",
     "output_type": "stream",
     "text": [
      "                                order_id  order_item_id  \\\n",
      "0       00010242fe8c5a6d1ba2dd792cb16214              1   \n",
      "1       00018f77f2f0320c557190d7a144bdd3              1   \n",
      "2       000229ec398224ef6ca0657da4fc703e              1   \n",
      "3       00024acbcdf0a6daa1e931b038114c75              1   \n",
      "4       00042b26cf59d7ce69dfabb4e55b4fd9              1   \n",
      "...                                  ...            ...   \n",
      "112645  fffc94f6ce00a00581880bf54a75a037              1   \n",
      "112646  fffcd46ef2263f404302a634eb57f7eb              1   \n",
      "112647  fffce4705a9662cd70adb13d4a31832d              1   \n",
      "112648  fffe18544ffabc95dfada21779c9644f              1   \n",
      "112649  fffe41c64501cc87c801fd61db3f6244              1   \n",
      "\n",
      "                              product_id                         seller_id  \\\n",
      "0       4244733e06e7ecb4970a6e2683c13e61  48436dade18ac8b2bce089ec2a041202   \n",
      "1       e5f2d52b802189ee658865ca93d83a8f  dd7ddc04e1b6c2c614352b383efe2d36   \n",
      "2       c777355d18b72b67abbeef9df44fd0fd  5b51032eddd242adc84c38acab88f23d   \n",
      "3       7634da152a4610f1595efa32f14722fc  9d7a1d34a5052409006425275ba1c2b4   \n",
      "4       ac6c3623068f30de03045865e4e10089  df560393f3a51e74553ab94004ba5c87   \n",
      "...                                  ...                               ...   \n",
      "112645  4aa6014eceb682077f9dc4bffebc05b0  b8bc237ba3788b23da09c0f1f3a3288c   \n",
      "112646  32e07fd915822b0765e448c4dd74c828  f3c38ab652836d21de61fb8314b69182   \n",
      "112647  72a30483855e2eafc67aee5dc2560482  c3cfdc648177fdbbbb35635a37472c53   \n",
      "112648  9c422a519119dcad7575db5af1ba540e  2b3e4a2a3ea8e01938cabda2a3e5cc79   \n",
      "112649  350688d9dc1e75ff97be326363655e01  f7ccf836d21b2fb1de37564105216cc1   \n",
      "\n",
      "       shipping_limit_date   price  freight_value  one_value  \n",
      "0      2017-09-19 09:45:35   58.90          13.29      72.19  \n",
      "1      2017-05-03 11:05:13  239.90          19.93     259.83  \n",
      "2      2018-01-18 14:48:30  199.00          17.87     216.87  \n",
      "3      2018-08-15 10:10:18   12.99          12.79      25.78  \n",
      "4      2017-02-13 13:57:51  199.90          18.14     218.04  \n",
      "...                    ...     ...            ...        ...  \n",
      "112645 2018-05-02 04:11:01  299.99          43.41     343.40  \n",
      "112646 2018-07-20 04:31:48  350.00          36.53     386.53  \n",
      "112647 2017-10-30 17:14:25   99.90          16.95     116.85  \n",
      "112648 2017-08-21 00:04:32   55.99           8.72      64.71  \n",
      "112649 2018-06-12 17:10:13   43.00          12.79      55.79  \n",
      "\n",
      "[112650 rows x 8 columns]\n"
     ]
    }
   ],
   "source": [
    "print(order_items)"
   ]
  },
  {
   "cell_type": "code",
   "execution_count": 16,
   "id": "47456c96-cd51-43e0-b744-c9b2d2957527",
   "metadata": {},
   "outputs": [],
   "source": [
    "order_items.to_csv('order_items1.csv',index = False)"
   ]
  },
  {
   "cell_type": "code",
   "execution_count": 17,
   "id": "7a173e4d-487c-4467-bf5b-17df1f99120d",
   "metadata": {},
   "outputs": [
    {
     "name": "stdout",
     "output_type": "stream",
     "text": [
      "                               order_id  item_count  total_price  \\\n",
      "0      00010242fe8c5a6d1ba2dd792cb16214           1        58.90   \n",
      "1      00018f77f2f0320c557190d7a144bdd3           1       239.90   \n",
      "2      000229ec398224ef6ca0657da4fc703e           1       199.00   \n",
      "3      00024acbcdf0a6daa1e931b038114c75           1        12.99   \n",
      "4      00042b26cf59d7ce69dfabb4e55b4fd9           1       199.90   \n",
      "...                                 ...         ...          ...   \n",
      "98661  fffc94f6ce00a00581880bf54a75a037           1       299.99   \n",
      "98662  fffcd46ef2263f404302a634eb57f7eb           1       350.00   \n",
      "98663  fffce4705a9662cd70adb13d4a31832d           1        99.90   \n",
      "98664  fffe18544ffabc95dfada21779c9644f           1        55.99   \n",
      "98665  fffe41c64501cc87c801fd61db3f6244           1        43.00   \n",
      "\n",
      "       total_freight  total_cost                 data  \n",
      "0              13.29       72.19  2017-09-13 08:59:02  \n",
      "1              19.93      259.83  2017-04-26 10:53:06  \n",
      "2              17.87      216.87  2018-01-14 14:33:31  \n",
      "3              12.79       25.78  2018-08-08 10:00:35  \n",
      "4              18.14      218.04  2017-02-04 13:57:51  \n",
      "...              ...         ...                  ...  \n",
      "98661          43.41      343.40  2018-04-23 13:57:06  \n",
      "98662          36.53      386.53  2018-07-14 10:26:46  \n",
      "98663          16.95      116.85  2017-10-23 17:07:56  \n",
      "98664           8.72       64.71  2017-08-14 23:02:59  \n",
      "98665          12.79       55.79  2018-06-09 17:00:18  \n",
      "\n",
      "[98666 rows x 6 columns]\n"
     ]
    }
   ],
   "source": [
    "# 计算订单总金额和总运费\n",
    "order_summary = order_items.groupby('order_id').agg(\n",
    "    item_count=('product_id', 'count'),\n",
    "    total_price=('price', 'sum'),\n",
    "    total_freight=('freight_value', 'sum')\n",
    ").reset_index()\n",
    "order_summary['order_id'].duplicated().sum()\n",
    "order_summary['total_cost'] = order_summary['total_price']+order_summary['total_freight']\n",
    "order_summary = pd.merge(order_summary,ord_fulfillment_timeline[['order_id','order_purchase_timestamp']],on='order_id')\n",
    "order_summary=order_summary.rename(columns={'order_purchase_timestamp':'data'})\n",
    "print(order_summary)\n",
    "order_summary.to_csv('order_summary.csv',index = False)\n",
    "# 尝试确认每个订单组其他量都是相同的\n",
    "# 但是得到结果有多个订单都不同只能使用第一种方法\n",
    "# con_check = order_items.groupby('order_id').agg({\n",
    "#     'product_id':'nunique',\n",
    "#     'seller_id':'nunique',\n",
    "#     'shipping_limit_date':'nunique'    \n",
    "# }).reset_index()\n",
    "# print(con_check)\n",
    "# print(con_check[con_check['product_id']>1])\n",
    "# a = con_check[['product_id','seller_id','shipping_limit_date']].sum()\n",
    "# print(a)"
   ]
  },
  {
   "cell_type": "code",
   "execution_count": 18,
   "id": "74ca912f-0b28-4a7d-a468-24b391669491",
   "metadata": {},
   "outputs": [],
   "source": [
    "#接下来将找出商品的畅销榜\n",
    "#首先将产品名称和订单表连接起来\n",
    "hot_product = pd.merge(order_items,product_meta_data[['product_id','product_category_name']],on='product_id')"
   ]
  },
  {
   "cell_type": "code",
   "execution_count": 19,
   "id": "4b5723bb-a6f1-4a32-bbfa-31da82a306a1",
   "metadata": {
    "scrolled": true
   },
   "outputs": [
    {
     "name": "stdout",
     "output_type": "stream",
     "text": [
      "product_category_name\n",
      "cama_mesa_banho           11115\n",
      "beleza_saude               9670\n",
      "esporte_lazer              8641\n",
      "moveis_decoracao           8334\n",
      "informatica_acessorios     7827\n",
      "utilidades_domesticas      6964\n",
      "relogios_presentes         5991\n",
      "telefonia                  4545\n",
      "ferramentas_jardim         4347\n",
      "automotivo                 4235\n",
      "Name: 售卖数量, dtype: int64\n"
     ]
    },
    {
     "data": {
      "text/plain": [
       "<Axes: xlabel='product_category_name'>"
      ]
     },
     "execution_count": 19,
     "metadata": {},
     "output_type": "execute_result"
    },
    {
     "data": {
      "image/png": "[encoded data removed]",
      "text/plain": [
       "<Figure size 640x480 with 1 Axes>"
      ]
     },
     "metadata": {},
     "output_type": "display_data"
    }
   ],
   "source": [
    "hot_product1=hot_product.groupby('product_category_name').count().sort_values('order_id',ascending=False)\n",
    "hot_product1['售卖数量']=hot_product1['order_id']\n",
    "hot_product1=hot_product1['售卖数量']\n",
    "print(hot_product1.head(10))\n",
    "hot_product1.head(10).plot(kind='bar')"
   ]
  },
  {
   "cell_type": "code",
   "execution_count": 20,
   "id": "eab842ac-79e5-49dc-9581-e4f522e9dc3d",
   "metadata": {},
   "outputs": [
    {
     "name": "stdout",
     "output_type": "stream",
     "text": [
      "<class 'pandas.core.frame.DataFrame'>\n",
      "RangeIndex: 99441 entries, 0 to 99440\n",
      "Data columns (total 8 columns):\n",
      " #   Column                         Non-Null Count  Dtype \n",
      "---  ------                         --------------  ----- \n",
      " 0   order_id                       99441 non-null  object\n",
      " 1   customer_id                    99441 non-null  object\n",
      " 2   order_status                   99441 non-null  object\n",
      " 3   order_purchase_timestamp       99441 non-null  object\n",
      " 4   order_approved_at              99281 non-null  object\n",
      " 5   order_delivered_carrier_date   97658 non-null  object\n",
      " 6   order_delivered_customer_date  96476 non-null  object\n",
      " 7   order_estimated_delivery_date  99441 non-null  object\n",
      "dtypes: object(8)\n",
      "memory usage: 6.1+ MB\n",
      "None\n"
     ]
    }
   ],
   "source": [
    "print(ord_fulfillment_timeline.info())"
   ]
  },
  {
   "cell_type": "code",
   "execution_count": 21,
   "id": "1fcb3bcd-b2fc-4faa-a2e3-e138d5684f8a",
   "metadata": {},
   "outputs": [],
   "source": [
    "#处理买卖物流时间数据，分析物流速度\n",
    "datatime_col = ['order_purchase_timestamp','order_approved_at','order_delivered_carrier_date','order_delivered_customer_date','order_estimated_delivery_date']\n",
    "for col in datatime_col:\n",
    "    ord_fulfillment_timeline[col] = pd.to_datetime(ord_fulfillment_timeline[col],format = 'mixed')"
   ]
  },
  {
   "cell_type": "code",
   "execution_count": 22,
   "id": "fa5356dc-5a36-4462-97cb-8b8b875c37b7",
   "metadata": {},
   "outputs": [
    {
     "name": "stdout",
     "output_type": "stream",
     "text": [
      "<class 'pandas.core.frame.DataFrame'>\n",
      "RangeIndex: 99441 entries, 0 to 99440\n",
      "Data columns (total 8 columns):\n",
      " #   Column                         Non-Null Count  Dtype         \n",
      "---  ------                         --------------  -----         \n",
      " 0   order_id                       99441 non-null  object        \n",
      " 1   customer_id                    99441 non-null  object        \n",
      " 2   order_status                   99441 non-null  object        \n",
      " 3   order_purchase_timestamp       99441 non-null  datetime64[ns]\n",
      " 4   order_approved_at              99281 non-null  datetime64[ns]\n",
      " 5   order_delivered_carrier_date   97658 non-null  datetime64[ns]\n",
      " 6   order_delivered_customer_date  96476 non-null  datetime64[ns]\n",
      " 7   order_estimated_delivery_date  99441 non-null  datetime64[ns]\n",
      "dtypes: datetime64[ns](5), object(3)\n",
      "memory usage: 6.1+ MB\n",
      "None\n"
     ]
    }
   ],
   "source": [
    "print(ord_fulfillment_timeline.info())"
   ]
  },
  {
   "cell_type": "code",
   "execution_count": 23,
   "id": "3747c8a9-270c-44db-9484-883d1aad0eff",
   "metadata": {},
   "outputs": [
    {
     "name": "stdout",
     "output_type": "stream",
     "text": [
      "order_id                            0\n",
      "customer_id                         0\n",
      "order_status                        0\n",
      "order_purchase_timestamp            0\n",
      "order_approved_at                 160\n",
      "order_delivered_carrier_date     1783\n",
      "order_delivered_customer_date    2965\n",
      "order_estimated_delivery_date       0\n",
      "dtype: int64\n"
     ]
    }
   ],
   "source": [
    "print(ord_fulfillment_timeline.isnull().sum())"
   ]
  },
  {
   "cell_type": "code",
   "execution_count": 24,
   "id": "3aa47b03-2356-4e49-adf1-e94f965e807f",
   "metadata": {},
   "outputs": [
    {
     "name": "stdout",
     "output_type": "stream",
     "text": [
      "order_status\n",
      "shipped        1107\n",
      "canceled        619\n",
      "unavailable     609\n",
      "invoiced        314\n",
      "processing      301\n",
      "delivered         8\n",
      "created           5\n",
      "approved          2\n",
      "Name: count, dtype: int64\n"
     ]
    }
   ],
   "source": [
    "print(ord_fulfillment_timeline[ord_fulfillment_timeline['order_delivered_customer_date'].isnull()]['order_status'].value_counts())"
   ]
  },
  {
   "cell_type": "code",
   "execution_count": 25,
   "id": "4158a6f0-d48e-4ea6-8edb-1cf86f455dda",
   "metadata": {},
   "outputs": [],
   "source": [
    "#将送达但是没有送达时间的脏数据处理\n",
    "invalid_deliverded = ord_fulfillment_timeline[(ord_fulfillment_timeline['order_status'] == 'delivered')&(ord_fulfillment_timeline['order_delivered_customer_date'].isnull())]\n",
    "ord_fulfillment_timeline = ord_fulfillment_timeline.drop(invalid_deliverded.index)"
   ]
  },
  {
   "cell_type": "code",
   "execution_count": 26,
   "id": "509241d3-331d-4549-8d7e-234c46980dfb",
   "metadata": {},
   "outputs": [
    {
     "name": "stdout",
     "output_type": "stream",
     "text": [
      "<class 'pandas.core.frame.DataFrame'>\n",
      "Index: 99433 entries, 0 to 99440\n",
      "Data columns (total 8 columns):\n",
      " #   Column                         Non-Null Count  Dtype         \n",
      "---  ------                         --------------  -----         \n",
      " 0   order_id                       99433 non-null  object        \n",
      " 1   customer_id                    99433 non-null  object        \n",
      " 2   order_status                   99433 non-null  object        \n",
      " 3   order_purchase_timestamp       99433 non-null  datetime64[ns]\n",
      " 4   order_approved_at              99273 non-null  datetime64[ns]\n",
      " 5   order_delivered_carrier_date   97651 non-null  datetime64[ns]\n",
      " 6   order_delivered_customer_date  96476 non-null  datetime64[ns]\n",
      " 7   order_estimated_delivery_date  99433 non-null  datetime64[ns]\n",
      "dtypes: datetime64[ns](5), object(3)\n",
      "memory usage: 6.8+ MB\n",
      "None\n"
     ]
    }
   ],
   "source": [
    "print(ord_fulfillment_timeline.info())"
   ]
  },
  {
   "cell_type": "code",
   "execution_count": 27,
   "id": "393f0cdc-34c9-4084-a6b0-e9b207c02a02",
   "metadata": {},
   "outputs": [
    {
     "name": "stdout",
     "output_type": "stream",
     "text": [
      "order_status\n",
      "shipped        1107\n",
      "canceled        619\n",
      "unavailable     609\n",
      "invoiced        314\n",
      "processing      301\n",
      "created           5\n",
      "approved          2\n",
      "Name: count, dtype: int64\n"
     ]
    }
   ],
   "source": [
    "print(ord_fulfillment_timeline[ord_fulfillment_timeline['order_delivered_customer_date'].isnull()]['order_status'].value_counts())"
   ]
  },
  {
   "cell_type": "code",
   "execution_count": 28,
   "id": "c3fd21a6-d886-4a0d-ae98-71808e5d779b",
   "metadata": {},
   "outputs": [
    {
     "name": "stdout",
     "output_type": "stream",
     "text": [
      "<class 'pandas.core.frame.DataFrame'>\n",
      "Index: 96461 entries, 0 to 99440\n",
      "Data columns (total 8 columns):\n",
      " #   Column                         Non-Null Count  Dtype         \n",
      "---  ------                         --------------  -----         \n",
      " 0   order_id                       96461 non-null  object        \n",
      " 1   customer_id                    96461 non-null  object        \n",
      " 2   order_status                   96461 non-null  object        \n",
      " 3   order_purchase_timestamp       96461 non-null  datetime64[ns]\n",
      " 4   order_approved_at              96461 non-null  datetime64[ns]\n",
      " 5   order_delivered_carrier_date   96461 non-null  datetime64[ns]\n",
      " 6   order_delivered_customer_date  96461 non-null  datetime64[ns]\n",
      " 7   order_estimated_delivery_date  96461 non-null  datetime64[ns]\n",
      "dtypes: datetime64[ns](5), object(3)\n",
      "memory usage: 6.6+ MB\n",
      "None\n"
     ]
    }
   ],
   "source": [
    "# 最会决定将所有空值行删除，毕竟对于数据量10w来说还是比较小\n",
    "ord_fulfillment_timeline=ord_fulfillment_timeline.dropna()\n",
    "print(ord_fulfillment_timeline.info())"
   ]
  },
  {
   "cell_type": "code",
   "execution_count": 29,
   "id": "388c32a8-7f1e-4367-8364-7d73d9250fe6",
   "metadata": {},
   "outputs": [
    {
     "name": "stdout",
     "output_type": "stream",
     "text": [
      "0    6 days 01:30:13\n",
      "1   12 days 00:56:45\n",
      "2    9 days 04:16:29\n",
      "3    9 days 10:48:43\n",
      "4    1 days 22:30:28\n",
      "Name: 相距时间, dtype: timedelta64[ns]\n"
     ]
    },
    {
     "data": {
      "text/plain": [
       "count    93748.000000\n",
       "mean         9.135427\n",
       "std          8.737512\n",
       "min          1.000000\n",
       "25%          4.000000\n",
       "50%          7.000000\n",
       "75%         12.000000\n",
       "max        205.000000\n",
       "Name: 相距时间, dtype: float64"
      ]
     },
     "execution_count": 29,
     "metadata": {},
     "output_type": "execute_result"
    },
    {
     "data": {
      "image/png": "[encoded data removed]",
      "text/plain": [
       "<Figure size 640x480 with 1 Axes>"
      ]
     },
     "metadata": {},
     "output_type": "display_data"
    }
   ],
   "source": [
    "#获取发货到收货时间差距\n",
    "ord_fulfillment_timeline['相距时间'] = ord_fulfillment_timeline['order_delivered_customer_date'] - ord_fulfillment_timeline['order_delivered_carrier_date']\n",
    "print(ord_fulfillment_timeline['相距时间'].head())\n",
    "#将时间数据类型转换int\n",
    "ord_fulfillment_timeline['相距时间'] = ord_fulfillment_timeline['相距时间'].map(lambda x:x.days)\n",
    "#发现有相距时间为负值继续处理数据 ,考虑到脏数据数据量不大暂不处理,将数据删除并保持处理后的的数据\n",
    "time_error = ord_fulfillment_timeline[ord_fulfillment_timeline['相距时间']<0]\n",
    "ord_fulfillment_timeline = ord_fulfillment_timeline.drop(time_error.index)\n",
    "ord_fulfillment_timeline.to_csv('ord_fulfillment_timeline.csv',index = False)\n",
    "# print(ord_fulfillment_timeline[ord_fulfillment_timeline['相距时间']<0].count())\n",
    "# print(ord_fulfillment_timeline[ord_fulfillment_timeline['相距时间']<0].head())\n",
    "# ax = sns.histplot(ord_fulfillment_timeline[(ord_fulfillment_timeline['order_status']=='delivered')&(ord_fulfillment_timeline['相距时间']>0)]['相距时间'], bins='auto') \n",
    "# 考虑到删除了负值时间和空值数据且大多数送达时间都是在50天之内所以我们着重看50天内的变化\n",
    "\n",
    "ax = sns.histplot(ord_fulfillment_timeline[(ord_fulfillment_timeline['order_status']=='delivered')&(ord_fulfillment_timeline['相距时间']<50)]['相距时间'], bins='auto')\n",
    "# ord_fulfillment_timeline[(ord_fulfillment_timeline['order_status']=='delivered')]['相距时间'].plot(kind='hist',bins = 50)\n",
    "# ord_fulfillment_timeline[(ord_fulfillment_timeline['order_status']=='delivered')&(ord_fulfillment_timeline['相距时间']>0)]['相距时间'].mode()\n",
    "# 可以看出大多数物流时间都在6天左右\n",
    "ord_fulfillment_timeline[(ord_fulfillment_timeline['order_status']=='delivered')&(ord_fulfillment_timeline['相距时间']>0)]['相距时间'].describe()"
   ]
  },
  {
   "cell_type": "code",
   "execution_count": 30,
   "id": "fd52b899-238b-46ed-9ed1-503bc556ce16",
   "metadata": {},
   "outputs": [
    {
     "name": "stdout",
     "output_type": "stream",
     "text": [
      "0\n"
     ]
    }
   ],
   "source": [
    "print(ord_fulfillment_timeline['customer_id'].duplicated().sum())"
   ]
  },
  {
   "cell_type": "code",
   "execution_count": 31,
   "id": "673ce292-74c2-4f45-8401-3fc72a061874",
   "metadata": {},
   "outputs": [
    {
     "name": "stdout",
     "output_type": "stream",
     "text": [
      "3.36%\n"
     ]
    }
   ],
   "source": [
    "#计算复购率\n",
    "# agin_buy=cust_id_location.groupby('customer_unique_id').count()['customer_id'].count()#['customer_state'].sum()\n",
    "agin_buy=cust_id_location['customer_unique_id'].duplicated().sum()#客户唯一值与订单客户差值\n",
    "\n",
    "agin_buy2=cust_id_location['customer_id'].count()#所有订单客户值\n",
    "agin_buy3=agin_buy/agin_buy2\n",
    "print('{:.2%}'.format(agin_buy3))\n"
   ]
  },
  {
   "cell_type": "code",
   "execution_count": 32,
   "id": "b9569c67-6691-45b2-8f61-a93035430185",
   "metadata": {
    "scrolled": true
   },
   "outputs": [
    {
     "name": "stdout",
     "output_type": "stream",
     "text": [
      "                              review_id                          order_id  \\\n",
      "0      7bc2406110b926393aa56f80a40eba40  73fc7af87114b39712e6da79b0a377eb   \n",
      "1      80e641a11e56f04c1ad469d5645fdfde  a548910a1c6147796b98fdf73dbeba33   \n",
      "2      228ce5500dc1d8e020d8d1322874b6f0  f9e4b658b201a9f2ecdecbb34bed034b   \n",
      "3      e64fb393e7b32834bb789ff8bb30750e  658677c97b385a9be170737859d3511b   \n",
      "4      f7c4243c7fe1938f181bec41a392bdeb  8e6bfb81e283fa7e4f11123a3fb894f1   \n",
      "...                                 ...                               ...   \n",
      "99219  574ed12dd733e5fa530cfd4bbf39d7c9  2a8c23fee101d4d5662fa670396eb8da   \n",
      "99220  f3897127253a9592a73be9bdfdf4ed7a  22ec9f0669f784db00fa86d035cf8602   \n",
      "99221  b3de70c89b1510c4cd3d0649fd302472  55d4004744368f5571d1f590031933e4   \n",
      "99222  1adeb9d84d72fe4e337617733eb85149  7725825d039fc1f0ceb7635e3f7d9206   \n",
      "99223  efe49f1d6f951dd88b51e6ccd4cc548f  90531360ecb1eec2a1fbb265a0db0508   \n",
      "\n",
      "       review_score review_comment_title  \\\n",
      "0                 4                  NaN   \n",
      "1                 5                  NaN   \n",
      "2                 5                  NaN   \n",
      "3                 5                  NaN   \n",
      "4                 5                  NaN   \n",
      "...             ...                  ...   \n",
      "99219             5                  NaN   \n",
      "99220             5                  NaN   \n",
      "99221             5                  NaN   \n",
      "99222             4                  NaN   \n",
      "99223             1                  NaN   \n",
      "\n",
      "                                  review_comment_message review_creation_date  \\\n",
      "0                                                    NaN  2018-01-18 00:00:00   \n",
      "1                                                    NaN  2018-03-10 00:00:00   \n",
      "2                                                    NaN  2018-02-17 00:00:00   \n",
      "3                  Recebi bem antes do prazo estipulado.  2017-04-21 00:00:00   \n",
      "4      Parabéns lojas lannister adorei comprar pela I...  2018-03-01 00:00:00   \n",
      "...                                                  ...                  ...   \n",
      "99219                                                NaN  2018-07-07 00:00:00   \n",
      "99220                                                NaN  2017-12-09 00:00:00   \n",
      "99221  Excelente mochila, entrega super rápida. Super...  2018-03-22 00:00:00   \n",
      "99222                                                NaN  2018-07-01 00:00:00   \n",
      "99223  meu produto chegou e ja tenho que devolver, po...  2017-07-03 00:00:00   \n",
      "\n",
      "      review_answer_timestamp  \n",
      "0         2018-01-18 21:46:59  \n",
      "1         2018-03-11 03:05:13  \n",
      "2         2018-02-18 14:36:24  \n",
      "3         2017-04-21 22:02:06  \n",
      "4         2018-03-02 10:26:53  \n",
      "...                       ...  \n",
      "99219     2018-07-14 17:18:30  \n",
      "99220     2017-12-11 20:06:42  \n",
      "99221     2018-03-23 09:10:43  \n",
      "99222     2018-07-02 12:59:13  \n",
      "99223     2017-07-03 21:01:49  \n",
      "\n",
      "[99224 rows x 7 columns]\n"
     ]
    }
   ],
   "source": [
    "print(ord_reviews)"
   ]
  },
  {
   "cell_type": "code",
   "execution_count": 33,
   "id": "3fa77ca9-2c04-4a9a-b256-48ed2377bf2a",
   "metadata": {},
   "outputs": [
    {
     "name": "stdout",
     "output_type": "stream",
     "text": [
      "<class 'pandas.core.frame.DataFrame'>\n",
      "RangeIndex: 99224 entries, 0 to 99223\n",
      "Data columns (total 7 columns):\n",
      " #   Column                   Non-Null Count  Dtype \n",
      "---  ------                   --------------  ----- \n",
      " 0   review_id                99224 non-null  object\n",
      " 1   order_id                 99224 non-null  object\n",
      " 2   review_score             99224 non-null  int64 \n",
      " 3   review_comment_title     11568 non-null  object\n",
      " 4   review_comment_message   40977 non-null  object\n",
      " 5   review_creation_date     99224 non-null  object\n",
      " 6   review_answer_timestamp  99224 non-null  object\n",
      "dtypes: int64(1), object(6)\n",
      "memory usage: 5.3+ MB\n",
      "None\n"
     ]
    }
   ],
   "source": [
    "print(ord_reviews.info())"
   ]
  },
  {
   "cell_type": "code",
   "execution_count": 34,
   "id": "6a50cf3a-8efd-4967-be3b-55a60445ddea",
   "metadata": {},
   "outputs": [],
   "source": [
    "datatime_col1 = ['review_creation_date','review_answer_timestamp']\n",
    "for col in datatime_col1:\n",
    "    ord_reviews[col] = pd.to_datetime(ord_reviews[col],format = 'mixed')\n",
    "# review数据中有评论等列为空，容易造成在导入tableau中出现问题所以将其排除写入新的csv\n",
    "ord_reviews.to_csv('review.csv',columns = ['review_id','order_id','review_score','review_creation_date','review_answer_timestamp'],index = False)"
   ]
  },
  {
   "cell_type": "code",
   "execution_count": 35,
   "id": "857582e6-9183-4271-8c30-45a65e344ad3",
   "metadata": {},
   "outputs": [
    {
     "name": "stdout",
     "output_type": "stream",
     "text": [
      "<class 'pandas.core.frame.DataFrame'>\n",
      "RangeIndex: 99224 entries, 0 to 99223\n",
      "Data columns (total 7 columns):\n",
      " #   Column                   Non-Null Count  Dtype         \n",
      "---  ------                   --------------  -----         \n",
      " 0   review_id                99224 non-null  object        \n",
      " 1   order_id                 99224 non-null  object        \n",
      " 2   review_score             99224 non-null  int64         \n",
      " 3   review_comment_title     11568 non-null  object        \n",
      " 4   review_comment_message   40977 non-null  object        \n",
      " 5   review_creation_date     99224 non-null  datetime64[ns]\n",
      " 6   review_answer_timestamp  99224 non-null  datetime64[ns]\n",
      "dtypes: datetime64[ns](2), int64(1), object(4)\n",
      "memory usage: 5.3+ MB\n",
      "None\n"
     ]
    }
   ],
   "source": [
    "print(ord_reviews.info())"
   ]
  },
  {
   "cell_type": "code",
   "execution_count": 36,
   "id": "de80e928-0c8f-445c-a558-12f8fbead80c",
   "metadata": {},
   "outputs": [
    {
     "name": "stdout",
     "output_type": "stream",
     "text": [
      "0    5\n",
      "Name: review_score, dtype: int64\n"
     ]
    }
   ],
   "source": [
    "# 可以看到多数人还是打出5星好评\n",
    "print(ord_reviews['review_score'].mode())"
   ]
  },
  {
   "cell_type": "code",
   "execution_count": 37,
   "id": "7287395e-0dcd-4aff-91b4-9558b2b3c677",
   "metadata": {},
   "outputs": [
    {
     "data": {
      "text/plain": [
       "count    99224.000000\n",
       "mean         4.086421\n",
       "std          1.347579\n",
       "min          1.000000\n",
       "25%          4.000000\n",
       "50%          5.000000\n",
       "75%          5.000000\n",
       "max          5.000000\n",
       "Name: review_score, dtype: float64"
      ]
     },
     "execution_count": 37,
     "metadata": {},
     "output_type": "execute_result"
    }
   ],
   "source": [
    "# 平均分数为4分\n",
    "ord_reviews['review_score'].describe()"
   ]
  },
  {
   "cell_type": "code",
   "execution_count": 38,
   "id": "644c9db4-b503-4308-ad3f-63435d88b6ff",
   "metadata": {},
   "outputs": [],
   "source": [
    "#尝试将review和产品订单联系起来，查看各产品的订单评分\n",
    "re_prod = pd.merge(ord_reviews,order_items[['order_id','product_id']],on = 'order_id')"
   ]
  },
  {
   "cell_type": "code",
   "execution_count": 39,
   "id": "633e6867-4460-403c-a703-eb463178ddb6",
   "metadata": {},
   "outputs": [],
   "source": [
    "# re_prod = pd.merge(re_prod,product_meta_data[['product_id','product_category_name']]on='product_id')"
   ]
  },
  {
   "cell_type": "code",
   "execution_count": 40,
   "id": "2ef4163b-6a1b-43c8-9876-800b5dd57f29",
   "metadata": {},
   "outputs": [],
   "source": [
    "# 求个产品评分平均值\n",
    "re_prod1 = re_prod.groupby('product_id')['review_score'].mean()"
   ]
  },
  {
   "cell_type": "code",
   "execution_count": 41,
   "id": "427cb153-f11e-427b-96ba-97f2a4c5fda1",
   "metadata": {},
   "outputs": [],
   "source": [
    "# 将各产品名称连接\n",
    "re_prod1 = pd.merge(re_prod1,product_meta_data[['product_id','product_category_name']],on='product_id')"
   ]
  },
  {
   "cell_type": "code",
   "execution_count": 42,
   "id": "7eef3e75-3527-4d8b-9a0f-144cf811ae3a",
   "metadata": {},
   "outputs": [],
   "source": [
    "re_prod1 = re_prod1.sort_values('review_score')"
   ]
  },
  {
   "cell_type": "code",
   "execution_count": 43,
   "id": "482b7519-bfc3-411d-84fc-8d5beea63489",
   "metadata": {},
   "outputs": [
    {
     "name": "stdout",
     "output_type": "stream",
     "text": [
      "                             product_id  review_score   product_category_name\n",
      "18099  8fdce6f1db3b75b035989f673164487e           1.0         cama_mesa_banho\n",
      "205    01a0f7d0d081d619be810e512be45f97           1.0         cama_mesa_banho\n",
      "218    01b0238705b6ae8e35c6fea837e6ae4a           1.0            beleza_saude\n",
      "224    01bacce2c74317ed2524bcaabae2e9d4           1.0   utilidades_domesticas\n",
      "227    01c2e91674406ebaca6a1bbf7f61c3f0           1.0  informatica_acessorios\n",
      "27993  de37ff8068c8e7b1164a19f0f4d05619           1.0         casa_construcao\n",
      "27999  de41aaf0880256b515a29b86285a45c7           1.0           esporte_lazer\n",
      "31995  fec2d939a171210847d8f2d102f0dba5           1.0      ferramentas_jardim\n",
      "106    00efb9a8ce0cf3b2f37892ab003edc10           1.0           esporte_lazer\n",
      "17997  8f08d9a3c02538bfb6110150a8bbad07           1.0   utilidades_domesticas\n"
     ]
    }
   ],
   "source": [
    "# 评分最低的\n",
    "print(re_prod1.head(10))"
   ]
  },
  {
   "cell_type": "code",
   "execution_count": 44,
   "id": "4ccbf077-0ae4-4466-889d-ebd92e9639f6",
   "metadata": {},
   "outputs": [
    {
     "name": "stdout",
     "output_type": "stream",
     "text": [
      "                             product_id  review_score   product_category_name\n",
      "18124  90147b75b794b38e8a6e69b3657430fd           5.0         cama_mesa_banho\n",
      "18125  9019140ff0a590950d16c4e5ae5427f6           5.0   utilidades_domesticas\n",
      "18142  904df51afc994cd2a7bce1ec3ff5d9fe           5.0               papelaria\n",
      "18143  90509918fbc0f45016520d833ae25f78           5.0            market_place\n",
      "18146  9059b4009ee73aff5c683ea3b9307604           5.0        moveis_decoracao\n",
      "18148  905b0c0ebfb5ea28af1b5cfb97bbbd27           5.0  fashion_roupa_feminina\n",
      "18135  90375e3ead4149e7ce79f04c8f6c0545           5.0              automotivo\n",
      "18138  90467a0531183f8fd2cc76ca735df8a5           5.0        moveis_decoracao\n",
      "18139  9047a9fe0b7e4175af012bfa793890cd           5.0              automotivo\n",
      "18141  904a9e449fbfd90da738ab70ae6ca003           5.0             eletronicos\n"
     ]
    }
   ],
   "source": [
    "# 高评分\n",
    "print(re_prod1.tail(10))"
   ]
  },
  {
   "cell_type": "code",
   "execution_count": 45,
   "id": "6712084e-d57f-4c0c-b074-fec71331f0e6",
   "metadata": {},
   "outputs": [
    {
     "name": "stderr",
     "output_type": "stream",
     "text": [
      "C:\\Users\\a1567\\AppData\\Local\\Temp\\ipykernel_1940\\2148868440.py:1: FutureWarning: \n",
      "\n",
      "`shade` is now deprecated in favor of `fill`; setting `fill=True`.\n",
      "This will become an error in seaborn v0.14.0; please update your code.\n",
      "\n",
      "  sns.kdeplot(data=re_prod1, x=\"review_score\", shade=True)\n"
     ]
    },
    {
     "data": {
      "text/plain": [
       "<Axes: xlabel='review_score', ylabel='Density'>"
      ]
     },
     "execution_count": 45,
     "metadata": {},
     "output_type": "execute_result"
    },
    {
     "data": {
      "image/png": "[encoded data removed]",
      "text/plain": [
       "<Figure size 640x480 with 1 Axes>"
      ]
     },
     "metadata": {},
     "output_type": "display_data"
    }
   ],
   "source": [
    "sns.kdeplot(data=re_prod1, x=\"review_score\", shade=True)"
   ]
  },
  {
   "cell_type": "code",
   "execution_count": 46,
   "id": "b5c29c24-c197-4744-9dd1-36c47eeed626",
   "metadata": {},
   "outputs": [
    {
     "name": "stdout",
     "output_type": "stream",
     "text": [
      "<class 'pandas.core.frame.DataFrame'>\n",
      "RangeIndex: 3095 entries, 0 to 3094\n",
      "Data columns (total 4 columns):\n",
      " #   Column                  Non-Null Count  Dtype \n",
      "---  ------                  --------------  ----- \n",
      " 0   seller_id               3095 non-null   object\n",
      " 1   seller_zip_code_prefix  3095 non-null   int64 \n",
      " 2   seller_city             3095 non-null   object\n",
      " 3   seller_state            3095 non-null   object\n",
      "dtypes: int64(1), object(3)\n",
      "memory usage: 96.8+ KB\n",
      "None\n"
     ]
    }
   ],
   "source": [
    "# 对卖家数据进行处理\n",
    "print(sellers.info())"
   ]
  },
  {
   "cell_type": "code",
   "execution_count": 47,
   "id": "e4ebc828-3945-437a-8989-8219c100965a",
   "metadata": {},
   "outputs": [
    {
     "data": {
      "text/plain": [
       "False    3095\n",
       "Name: count, dtype: int64"
      ]
     },
     "execution_count": 47,
     "metadata": {},
     "output_type": "execute_result"
    }
   ],
   "source": [
    "sellers.duplicated().value_counts()"
   ]
  },
  {
   "cell_type": "code",
   "execution_count": 48,
   "id": "e8de3ecf-d851-45b7-9539-a48e14196261",
   "metadata": {},
   "outputs": [
    {
     "name": "stdout",
     "output_type": "stream",
     "text": [
      "<class 'pandas.core.frame.DataFrame'>\n",
      "RangeIndex: 103886 entries, 0 to 103885\n",
      "Data columns (total 5 columns):\n",
      " #   Column                Non-Null Count   Dtype  \n",
      "---  ------                --------------   -----  \n",
      " 0   order_id              103886 non-null  object \n",
      " 1   payment_sequential    103886 non-null  int64  \n",
      " 2   payment_type          103886 non-null  object \n",
      " 3   payment_installments  103886 non-null  int64  \n",
      " 4   payment_value         103886 non-null  float64\n",
      "dtypes: float64(1), int64(2), object(2)\n",
      "memory usage: 4.0+ MB\n",
      "None\n"
     ]
    }
   ],
   "source": [
    "#对支付数据进行处理\n",
    "print(pay_data.info())"
   ]
  },
  {
   "cell_type": "code",
   "execution_count": 49,
   "id": "eaa7adcf-f340-489a-8aaa-b774f529406e",
   "metadata": {},
   "outputs": [
    {
     "name": "stdout",
     "output_type": "stream",
     "text": [
      "       payment_sequential  payment_installments  payment_value\n",
      "count       103886.000000         103886.000000  103886.000000\n",
      "mean             1.092679              2.853349     154.100380\n",
      "std              0.706584              2.687051     217.494064\n",
      "min              1.000000              0.000000       0.000000\n",
      "25%              1.000000              1.000000      56.790000\n",
      "50%              1.000000              1.000000     100.000000\n",
      "75%              1.000000              4.000000     171.837500\n",
      "max             29.000000             24.000000   13664.080000\n"
     ]
    }
   ],
   "source": [
    "print(pay_data.describe())"
   ]
  },
  {
   "cell_type": "code",
   "execution_count": 50,
   "id": "e8a1df9a-003f-404d-97d3-c31ad5d44628",
   "metadata": {},
   "outputs": [],
   "source": [
    "# 发现有支付金额为0且没有使用代金卷的数据对其进行删除\n",
    "# pay_data[pay_data['payment_value']<=0]\n",
    "error_pay = pay_data[(pay_data['payment_value']<=0)&pay_data['payment_type']=='not_defined']\n",
    "pay_data = pay_data.drop(error_pay.index)"
   ]
  },
  {
   "cell_type": "code",
   "execution_count": 51,
   "id": "2652941c-a48e-4f34-843b-d696dd29b8d5",
   "metadata": {},
   "outputs": [],
   "source": [
    "# pay_data\n",
    "pay_data.to_csv('payment.csv',index = False)"
   ]
  },
  {
   "cell_type": "code",
   "execution_count": 52,
   "id": "73238411-4b68-457f-bd04-f9fb81bd8224",
   "metadata": {},
   "outputs": [],
   "source": [
    "# 将订单金额表和订单数据的支付时间和支付金额连接起来,只连接数据中已经交货的,并且连接制服的金额\n",
    "sales = pd.merge(order_summary,ord_fulfillment_timeline[ord_fulfillment_timeline['order_status']=='delivered'][['order_id','customer_id','order_delivered_customer_date']],on='order_id')\n",
    "sales = pd.merge(sales,pay_data[['order_id','payment_value']],on = 'order_id')"
   ]
  },
  {
   "cell_type": "code",
   "execution_count": 53,
   "id": "71fc3d4e-2ef7-4132-9dcb-50610f635cfb",
   "metadata": {},
   "outputs": [
    {
     "name": "stdout",
     "output_type": "stream",
     "text": [
      "<class 'pandas.core.frame.DataFrame'>\n",
      "RangeIndex: 100707 entries, 0 to 100706\n",
      "Data columns (total 9 columns):\n",
      " #   Column                         Non-Null Count   Dtype         \n",
      "---  ------                         --------------   -----         \n",
      " 0   order_id                       100707 non-null  object        \n",
      " 1   item_count                     100707 non-null  int64         \n",
      " 2   total_price                    100707 non-null  float64       \n",
      " 3   total_freight                  100707 non-null  float64       \n",
      " 4   total_cost                     100707 non-null  float64       \n",
      " 5   data                           100707 non-null  object        \n",
      " 6   customer_id                    100707 non-null  object        \n",
      " 7   order_delivered_customer_date  100707 non-null  datetime64[ns]\n",
      " 8   payment_value                  100707 non-null  float64       \n",
      "dtypes: datetime64[ns](1), float64(4), int64(1), object(3)\n",
      "memory usage: 6.9+ MB\n",
      "None\n"
     ]
    }
   ],
   "source": [
    "print(sales.info())"
   ]
  },
  {
   "cell_type": "code",
   "execution_count": 54,
   "id": "06cdb6d5-7d19-4c84-8a45-ba3f5cb9aaec",
   "metadata": {},
   "outputs": [],
   "source": [
    "#年度销售额趋势\n",
    "sales['year']=sales['order_delivered_customer_date'].dt.year\n",
    "sales['month']=sales['order_delivered_customer_date'].dt.month\n"
   ]
  },
  {
   "cell_type": "code",
   "execution_count": 55,
   "id": "06c5e776-f98a-4b1f-b10f-c6a5f3c3487a",
   "metadata": {},
   "outputs": [
    {
     "data": {
      "image/png": "[encoded data removed]",
      "text/plain": [
       "<Figure size 640x480 with 1 Axes>"
      ]
     },
     "metadata": {},
     "output_type": "display_data"
    }
   ],
   "source": [
    "sales_year=sales.groupby(['year','month'])[['total_cost','payment_value']].sum()\n",
    "sales_year.plot(kind='bar')\n",
    "sales_year=sales_year.reset_index()"
   ]
  },
  {
   "cell_type": "code",
   "execution_count": 56,
   "id": "d3e0d392-902e-47da-92d6-effd6246db3a",
   "metadata": {},
   "outputs": [
    {
     "data": {
      "text/html": [
       "<div>\n",
       "<style scoped>\n",
       "    .dataframe tbody tr th:only-of-type {\n",
       "        vertical-align: middle;\n",
       "    }\n",
       "\n",
       "    .dataframe tbody tr th {\n",
       "        vertical-align: top;\n",
       "    }\n",
       "\n",
       "    .dataframe thead th {\n",
       "        text-align: right;\n",
       "    }\n",
       "</style>\n",
       "<table border=\"1\" class=\"dataframe\">\n",
       "  <thead>\n",
       "    <tr style=\"text-align: right;\">\n",
       "      <th></th>\n",
       "      <th>year</th>\n",
       "      <th>month</th>\n",
       "      <th>total_cost</th>\n",
       "      <th>payment_value</th>\n",
       "    </tr>\n",
       "  </thead>\n",
       "  <tbody>\n",
       "    <tr>\n",
       "      <th>0</th>\n",
       "      <td>2016</td>\n",
       "      <td>10</td>\n",
       "      <td>34126.02</td>\n",
       "      <td>33779.57</td>\n",
       "    </tr>\n",
       "    <tr>\n",
       "      <th>1</th>\n",
       "      <td>2016</td>\n",
       "      <td>11</td>\n",
       "      <td>12407.21</td>\n",
       "      <td>11187.07</td>\n",
       "    </tr>\n",
       "    <tr>\n",
       "      <th>2</th>\n",
       "      <td>2016</td>\n",
       "      <td>12</td>\n",
       "      <td>960.85</td>\n",
       "      <td>960.85</td>\n",
       "    </tr>\n",
       "    <tr>\n",
       "      <th>3</th>\n",
       "      <td>2017</td>\n",
       "      <td>1</td>\n",
       "      <td>42186.91</td>\n",
       "      <td>38654.12</td>\n",
       "    </tr>\n",
       "    <tr>\n",
       "      <th>4</th>\n",
       "      <td>2017</td>\n",
       "      <td>2</td>\n",
       "      <td>239595.79</td>\n",
       "      <td>227429.29</td>\n",
       "    </tr>\n",
       "    <tr>\n",
       "      <th>5</th>\n",
       "      <td>2017</td>\n",
       "      <td>3</td>\n",
       "      <td>412441.26</td>\n",
       "      <td>385321.58</td>\n",
       "    </tr>\n",
       "    <tr>\n",
       "      <th>6</th>\n",
       "      <td>2017</td>\n",
       "      <td>4</td>\n",
       "      <td>322830.45</td>\n",
       "      <td>307722.84</td>\n",
       "    </tr>\n",
       "    <tr>\n",
       "      <th>7</th>\n",
       "      <td>2017</td>\n",
       "      <td>5</td>\n",
       "      <td>638650.56</td>\n",
       "      <td>600917.76</td>\n",
       "    </tr>\n",
       "    <tr>\n",
       "      <th>8</th>\n",
       "      <td>2017</td>\n",
       "      <td>6</td>\n",
       "      <td>535386.63</td>\n",
       "      <td>501698.05</td>\n",
       "    </tr>\n",
       "    <tr>\n",
       "      <th>9</th>\n",
       "      <td>2017</td>\n",
       "      <td>7</td>\n",
       "      <td>560219.03</td>\n",
       "      <td>529449.64</td>\n",
       "    </tr>\n",
       "    <tr>\n",
       "      <th>10</th>\n",
       "      <td>2017</td>\n",
       "      <td>8</td>\n",
       "      <td>665910.31</td>\n",
       "      <td>626587.91</td>\n",
       "    </tr>\n",
       "    <tr>\n",
       "      <th>11</th>\n",
       "      <td>2017</td>\n",
       "      <td>9</td>\n",
       "      <td>707282.55</td>\n",
       "      <td>670205.77</td>\n",
       "    </tr>\n",
       "    <tr>\n",
       "      <th>12</th>\n",
       "      <td>2017</td>\n",
       "      <td>10</td>\n",
       "      <td>795262.01</td>\n",
       "      <td>759903.98</td>\n",
       "    </tr>\n",
       "    <tr>\n",
       "      <th>13</th>\n",
       "      <td>2017</td>\n",
       "      <td>11</td>\n",
       "      <td>788923.46</td>\n",
       "      <td>754668.98</td>\n",
       "    </tr>\n",
       "    <tr>\n",
       "      <th>14</th>\n",
       "      <td>2017</td>\n",
       "      <td>12</td>\n",
       "      <td>1138679.20</td>\n",
       "      <td>1102232.62</td>\n",
       "    </tr>\n",
       "    <tr>\n",
       "      <th>15</th>\n",
       "      <td>2018</td>\n",
       "      <td>1</td>\n",
       "      <td>1031102.19</td>\n",
       "      <td>993588.74</td>\n",
       "    </tr>\n",
       "    <tr>\n",
       "      <th>16</th>\n",
       "      <td>2018</td>\n",
       "      <td>2</td>\n",
       "      <td>917324.62</td>\n",
       "      <td>875514.19</td>\n",
       "    </tr>\n",
       "    <tr>\n",
       "      <th>17</th>\n",
       "      <td>2018</td>\n",
       "      <td>3</td>\n",
       "      <td>1076695.51</td>\n",
       "      <td>1043754.61</td>\n",
       "    </tr>\n",
       "    <tr>\n",
       "      <th>18</th>\n",
       "      <td>2018</td>\n",
       "      <td>4</td>\n",
       "      <td>1348169.97</td>\n",
       "      <td>1300791.67</td>\n",
       "    </tr>\n",
       "    <tr>\n",
       "      <th>19</th>\n",
       "      <td>2018</td>\n",
       "      <td>5</td>\n",
       "      <td>1219668.00</td>\n",
       "      <td>1170501.14</td>\n",
       "    </tr>\n",
       "    <tr>\n",
       "      <th>20</th>\n",
       "      <td>2018</td>\n",
       "      <td>6</td>\n",
       "      <td>1219429.14</td>\n",
       "      <td>1171086.67</td>\n",
       "    </tr>\n",
       "    <tr>\n",
       "      <th>21</th>\n",
       "      <td>2018</td>\n",
       "      <td>7</td>\n",
       "      <td>988547.22</td>\n",
       "      <td>948000.64</td>\n",
       "    </tr>\n",
       "    <tr>\n",
       "      <th>22</th>\n",
       "      <td>2018</td>\n",
       "      <td>8</td>\n",
       "      <td>1395942.62</td>\n",
       "      <td>1347216.73</td>\n",
       "    </tr>\n",
       "    <tr>\n",
       "      <th>23</th>\n",
       "      <td>2018</td>\n",
       "      <td>9</td>\n",
       "      <td>12875.18</td>\n",
       "      <td>12875.18</td>\n",
       "    </tr>\n",
       "    <tr>\n",
       "      <th>24</th>\n",
       "      <td>2018</td>\n",
       "      <td>10</td>\n",
       "      <td>347.95</td>\n",
       "      <td>347.95</td>\n",
       "    </tr>\n",
       "  </tbody>\n",
       "</table>\n",
       "</div>"
      ],
      "text/plain": [
       "    year  month  total_cost  payment_value\n",
       "0   2016     10    34126.02       33779.57\n",
       "1   2016     11    12407.21       11187.07\n",
       "2   2016     12      960.85         960.85\n",
       "3   2017      1    42186.91       38654.12\n",
       "4   2017      2   239595.79      227429.29\n",
       "5   2017      3   412441.26      385321.58\n",
       "6   2017      4   322830.45      307722.84\n",
       "7   2017      5   638650.56      600917.76\n",
       "8   2017      6   535386.63      501698.05\n",
       "9   2017      7   560219.03      529449.64\n",
       "10  2017      8   665910.31      626587.91\n",
       "11  2017      9   707282.55      670205.77\n",
       "12  2017     10   795262.01      759903.98\n",
       "13  2017     11   788923.46      754668.98\n",
       "14  2017     12  1138679.20     1102232.62\n",
       "15  2018      1  1031102.19      993588.74\n",
       "16  2018      2   917324.62      875514.19\n",
       "17  2018      3  1076695.51     1043754.61\n",
       "18  2018      4  1348169.97     1300791.67\n",
       "19  2018      5  1219668.00     1170501.14\n",
       "20  2018      6  1219429.14     1171086.67\n",
       "21  2018      7   988547.22      948000.64\n",
       "22  2018      8  1395942.62     1347216.73\n",
       "23  2018      9    12875.18       12875.18\n",
       "24  2018     10      347.95         347.95"
      ]
     },
     "execution_count": 56,
     "metadata": {},
     "output_type": "execute_result"
    }
   ],
   "source": [
    "sales_year"
   ]
  },
  {
   "cell_type": "code",
   "execution_count": 57,
   "id": "dd4595b0-2159-45c5-8dc4-1d8eb5bfc325",
   "metadata": {},
   "outputs": [
    {
     "data": {
      "text/html": [
       "<div>\n",
       "<style scoped>\n",
       "    .dataframe tbody tr th:only-of-type {\n",
       "        vertical-align: middle;\n",
       "    }\n",
       "\n",
       "    .dataframe tbody tr th {\n",
       "        vertical-align: top;\n",
       "    }\n",
       "\n",
       "    .dataframe thead th {\n",
       "        text-align: right;\n",
       "    }\n",
       "</style>\n",
       "<table border=\"1\" class=\"dataframe\">\n",
       "  <thead>\n",
       "    <tr style=\"text-align: right;\">\n",
       "      <th></th>\n",
       "      <th>year</th>\n",
       "      <th>month</th>\n",
       "      <th>total_cost</th>\n",
       "      <th>payment_value</th>\n",
       "      <th>同比增长率</th>\n",
       "      <th>环比增长率</th>\n",
       "    </tr>\n",
       "  </thead>\n",
       "  <tbody>\n",
       "    <tr>\n",
       "      <th>0</th>\n",
       "      <td>2016</td>\n",
       "      <td>10</td>\n",
       "      <td>34126.02</td>\n",
       "      <td>33779.57</td>\n",
       "      <td>0.000000</td>\n",
       "      <td>0.000000</td>\n",
       "    </tr>\n",
       "    <tr>\n",
       "      <th>1</th>\n",
       "      <td>2016</td>\n",
       "      <td>11</td>\n",
       "      <td>12407.21</td>\n",
       "      <td>11187.07</td>\n",
       "      <td>0.000000</td>\n",
       "      <td>-0.636430</td>\n",
       "    </tr>\n",
       "    <tr>\n",
       "      <th>2</th>\n",
       "      <td>2016</td>\n",
       "      <td>12</td>\n",
       "      <td>960.85</td>\n",
       "      <td>960.85</td>\n",
       "      <td>0.000000</td>\n",
       "      <td>-0.922557</td>\n",
       "    </tr>\n",
       "    <tr>\n",
       "      <th>3</th>\n",
       "      <td>2017</td>\n",
       "      <td>1</td>\n",
       "      <td>42186.91</td>\n",
       "      <td>38654.12</td>\n",
       "      <td>0.000000</td>\n",
       "      <td>42.905823</td>\n",
       "    </tr>\n",
       "    <tr>\n",
       "      <th>4</th>\n",
       "      <td>2017</td>\n",
       "      <td>2</td>\n",
       "      <td>239595.79</td>\n",
       "      <td>227429.29</td>\n",
       "      <td>0.000000</td>\n",
       "      <td>4.679387</td>\n",
       "    </tr>\n",
       "    <tr>\n",
       "      <th>5</th>\n",
       "      <td>2017</td>\n",
       "      <td>3</td>\n",
       "      <td>412441.26</td>\n",
       "      <td>385321.58</td>\n",
       "      <td>0.000000</td>\n",
       "      <td>0.721404</td>\n",
       "    </tr>\n",
       "    <tr>\n",
       "      <th>6</th>\n",
       "      <td>2017</td>\n",
       "      <td>4</td>\n",
       "      <td>322830.45</td>\n",
       "      <td>307722.84</td>\n",
       "      <td>0.000000</td>\n",
       "      <td>-0.217269</td>\n",
       "    </tr>\n",
       "    <tr>\n",
       "      <th>7</th>\n",
       "      <td>2017</td>\n",
       "      <td>5</td>\n",
       "      <td>638650.56</td>\n",
       "      <td>600917.76</td>\n",
       "      <td>0.000000</td>\n",
       "      <td>0.978285</td>\n",
       "    </tr>\n",
       "    <tr>\n",
       "      <th>8</th>\n",
       "      <td>2017</td>\n",
       "      <td>6</td>\n",
       "      <td>535386.63</td>\n",
       "      <td>501698.05</td>\n",
       "      <td>0.000000</td>\n",
       "      <td>-0.161691</td>\n",
       "    </tr>\n",
       "    <tr>\n",
       "      <th>9</th>\n",
       "      <td>2017</td>\n",
       "      <td>7</td>\n",
       "      <td>560219.03</td>\n",
       "      <td>529449.64</td>\n",
       "      <td>0.000000</td>\n",
       "      <td>0.046382</td>\n",
       "    </tr>\n",
       "    <tr>\n",
       "      <th>10</th>\n",
       "      <td>2017</td>\n",
       "      <td>8</td>\n",
       "      <td>665910.31</td>\n",
       "      <td>626587.91</td>\n",
       "      <td>0.000000</td>\n",
       "      <td>0.188661</td>\n",
       "    </tr>\n",
       "    <tr>\n",
       "      <th>11</th>\n",
       "      <td>2017</td>\n",
       "      <td>9</td>\n",
       "      <td>707282.55</td>\n",
       "      <td>670205.77</td>\n",
       "      <td>0.000000</td>\n",
       "      <td>0.062129</td>\n",
       "    </tr>\n",
       "    <tr>\n",
       "      <th>12</th>\n",
       "      <td>2017</td>\n",
       "      <td>10</td>\n",
       "      <td>795262.01</td>\n",
       "      <td>759903.98</td>\n",
       "      <td>22.303685</td>\n",
       "      <td>0.124391</td>\n",
       "    </tr>\n",
       "    <tr>\n",
       "      <th>13</th>\n",
       "      <td>2017</td>\n",
       "      <td>11</td>\n",
       "      <td>788923.46</td>\n",
       "      <td>754668.98</td>\n",
       "      <td>62.585888</td>\n",
       "      <td>-0.007970</td>\n",
       "    </tr>\n",
       "    <tr>\n",
       "      <th>14</th>\n",
       "      <td>2017</td>\n",
       "      <td>12</td>\n",
       "      <td>1138679.20</td>\n",
       "      <td>1102232.62</td>\n",
       "      <td>1184.074882</td>\n",
       "      <td>0.443333</td>\n",
       "    </tr>\n",
       "    <tr>\n",
       "      <th>15</th>\n",
       "      <td>2018</td>\n",
       "      <td>1</td>\n",
       "      <td>1031102.19</td>\n",
       "      <td>993588.74</td>\n",
       "      <td>23.441283</td>\n",
       "      <td>-0.094475</td>\n",
       "    </tr>\n",
       "    <tr>\n",
       "      <th>16</th>\n",
       "      <td>2018</td>\n",
       "      <td>2</td>\n",
       "      <td>917324.62</td>\n",
       "      <td>875514.19</td>\n",
       "      <td>2.828634</td>\n",
       "      <td>-0.110346</td>\n",
       "    </tr>\n",
       "    <tr>\n",
       "      <th>17</th>\n",
       "      <td>2018</td>\n",
       "      <td>3</td>\n",
       "      <td>1076695.51</td>\n",
       "      <td>1043754.61</td>\n",
       "      <td>1.610543</td>\n",
       "      <td>0.173734</td>\n",
       "    </tr>\n",
       "    <tr>\n",
       "      <th>18</th>\n",
       "      <td>2018</td>\n",
       "      <td>4</td>\n",
       "      <td>1348169.97</td>\n",
       "      <td>1300791.67</td>\n",
       "      <td>3.176093</td>\n",
       "      <td>0.252137</td>\n",
       "    </tr>\n",
       "    <tr>\n",
       "      <th>19</th>\n",
       "      <td>2018</td>\n",
       "      <td>5</td>\n",
       "      <td>1219668.00</td>\n",
       "      <td>1170501.14</td>\n",
       "      <td>0.909758</td>\n",
       "      <td>-0.095316</td>\n",
       "    </tr>\n",
       "    <tr>\n",
       "      <th>20</th>\n",
       "      <td>2018</td>\n",
       "      <td>6</td>\n",
       "      <td>1219429.14</td>\n",
       "      <td>1171086.67</td>\n",
       "      <td>1.277661</td>\n",
       "      <td>-0.000196</td>\n",
       "    </tr>\n",
       "    <tr>\n",
       "      <th>21</th>\n",
       "      <td>2018</td>\n",
       "      <td>7</td>\n",
       "      <td>988547.22</td>\n",
       "      <td>948000.64</td>\n",
       "      <td>0.764573</td>\n",
       "      <td>-0.189336</td>\n",
       "    </tr>\n",
       "    <tr>\n",
       "      <th>22</th>\n",
       "      <td>2018</td>\n",
       "      <td>8</td>\n",
       "      <td>1395942.62</td>\n",
       "      <td>1347216.73</td>\n",
       "      <td>1.096292</td>\n",
       "      <td>0.412115</td>\n",
       "    </tr>\n",
       "    <tr>\n",
       "      <th>23</th>\n",
       "      <td>2018</td>\n",
       "      <td>9</td>\n",
       "      <td>12875.18</td>\n",
       "      <td>12875.18</td>\n",
       "      <td>-0.981796</td>\n",
       "      <td>-0.990777</td>\n",
       "    </tr>\n",
       "    <tr>\n",
       "      <th>24</th>\n",
       "      <td>2018</td>\n",
       "      <td>10</td>\n",
       "      <td>347.95</td>\n",
       "      <td>347.95</td>\n",
       "      <td>-0.999562</td>\n",
       "      <td>-0.972975</td>\n",
       "    </tr>\n",
       "  </tbody>\n",
       "</table>\n",
       "</div>"
      ],
      "text/plain": [
       "    year  month  total_cost  payment_value        同比增长率      环比增长率\n",
       "0   2016     10    34126.02       33779.57     0.000000   0.000000\n",
       "1   2016     11    12407.21       11187.07     0.000000  -0.636430\n",
       "2   2016     12      960.85         960.85     0.000000  -0.922557\n",
       "3   2017      1    42186.91       38654.12     0.000000  42.905823\n",
       "4   2017      2   239595.79      227429.29     0.000000   4.679387\n",
       "5   2017      3   412441.26      385321.58     0.000000   0.721404\n",
       "6   2017      4   322830.45      307722.84     0.000000  -0.217269\n",
       "7   2017      5   638650.56      600917.76     0.000000   0.978285\n",
       "8   2017      6   535386.63      501698.05     0.000000  -0.161691\n",
       "9   2017      7   560219.03      529449.64     0.000000   0.046382\n",
       "10  2017      8   665910.31      626587.91     0.000000   0.188661\n",
       "11  2017      9   707282.55      670205.77     0.000000   0.062129\n",
       "12  2017     10   795262.01      759903.98    22.303685   0.124391\n",
       "13  2017     11   788923.46      754668.98    62.585888  -0.007970\n",
       "14  2017     12  1138679.20     1102232.62  1184.074882   0.443333\n",
       "15  2018      1  1031102.19      993588.74    23.441283  -0.094475\n",
       "16  2018      2   917324.62      875514.19     2.828634  -0.110346\n",
       "17  2018      3  1076695.51     1043754.61     1.610543   0.173734\n",
       "18  2018      4  1348169.97     1300791.67     3.176093   0.252137\n",
       "19  2018      5  1219668.00     1170501.14     0.909758  -0.095316\n",
       "20  2018      6  1219429.14     1171086.67     1.277661  -0.000196\n",
       "21  2018      7   988547.22      948000.64     0.764573  -0.189336\n",
       "22  2018      8  1395942.62     1347216.73     1.096292   0.412115\n",
       "23  2018      9    12875.18       12875.18    -0.981796  -0.990777\n",
       "24  2018     10      347.95         347.95    -0.999562  -0.972975"
      ]
     },
     "execution_count": 57,
     "metadata": {},
     "output_type": "execute_result"
    }
   ],
   "source": [
    "#计算增长率\n",
    "# 月同比增长率\n",
    "sales_year['同比增长率']=sales_year['total_cost'].pct_change(periods=12)\n",
    "#环比增长率\n",
    "sales_year['环比增长率']=sales_year['total_cost'].pct_change(periods=1)\n",
    "sales_year=sales_year.fillna({'同比增长率':0,'环比增长率':0})\n",
    "sales_year"
   ]
  },
  {
   "cell_type": "code",
   "execution_count": 58,
   "id": "78d15395-53ba-476f-8a9e-efbe1254f8a8",
   "metadata": {
    "scrolled": true
   },
   "outputs": [],
   "source": [
    "# sns.barplot(x='year',y='total_cost',data=sales_year)\n",
    "# sns.barplot(x='year',y='payment_value',data=sales_year)"
   ]
  },
  {
   "cell_type": "code",
   "execution_count": 59,
   "id": "c72c86f3-22ff-4ef3-aa6e-3fcc68ab3df3",
   "metadata": {},
   "outputs": [],
   "source": [
    "#热力图，各地区销售额分布\n",
    "#受限将客户与销售额表连接起来\n",
    "loc_sales=pd.merge(sales,cust_id_location,on='customer_id')"
   ]
  },
  {
   "cell_type": "code",
   "execution_count": 60,
   "id": "8ff347e3-8ec1-473f-83a8-8afb8f4a7a4e",
   "metadata": {},
   "outputs": [
    {
     "data": {
      "text/html": [
       "<div>\n",
       "<style scoped>\n",
       "    .dataframe tbody tr th:only-of-type {\n",
       "        vertical-align: middle;\n",
       "    }\n",
       "\n",
       "    .dataframe tbody tr th {\n",
       "        vertical-align: top;\n",
       "    }\n",
       "\n",
       "    .dataframe thead th {\n",
       "        text-align: right;\n",
       "    }\n",
       "</style>\n",
       "<table border=\"1\" class=\"dataframe\">\n",
       "  <thead>\n",
       "    <tr style=\"text-align: right;\">\n",
       "      <th></th>\n",
       "      <th>order_id</th>\n",
       "      <th>item_count</th>\n",
       "      <th>total_price</th>\n",
       "      <th>total_freight</th>\n",
       "      <th>total_cost</th>\n",
       "      <th>data</th>\n",
       "      <th>customer_id</th>\n",
       "      <th>order_delivered_customer_date</th>\n",
       "      <th>payment_value</th>\n",
       "      <th>year</th>\n",
       "      <th>month</th>\n",
       "      <th>customer_unique_id</th>\n",
       "      <th>customer_zip_code_prefix</th>\n",
       "      <th>customer_city</th>\n",
       "      <th>customer_state</th>\n",
       "    </tr>\n",
       "  </thead>\n",
       "  <tbody>\n",
       "    <tr>\n",
       "      <th>0</th>\n",
       "      <td>00010242fe8c5a6d1ba2dd792cb16214</td>\n",
       "      <td>1</td>\n",
       "      <td>58.90</td>\n",
       "      <td>13.29</td>\n",
       "      <td>72.19</td>\n",
       "      <td>2017-09-13 08:59:02</td>\n",
       "      <td>3ce436f183e68e07877b285a838db11a</td>\n",
       "      <td>2017-09-20 23:43:48</td>\n",
       "      <td>72.19</td>\n",
       "      <td>2017</td>\n",
       "      <td>9</td>\n",
       "      <td>871766c5855e863f6eccc05f988b23cb</td>\n",
       "      <td>28013</td>\n",
       "      <td>campos dos goytacazes</td>\n",
       "      <td>RJ</td>\n",
       "    </tr>\n",
       "    <tr>\n",
       "      <th>1</th>\n",
       "      <td>00018f77f2f0320c557190d7a144bdd3</td>\n",
       "      <td>1</td>\n",
       "      <td>239.90</td>\n",
       "      <td>19.93</td>\n",
       "      <td>259.83</td>\n",
       "      <td>2017-04-26 10:53:06</td>\n",
       "      <td>f6dd3ec061db4e3987629fe6b26e5cce</td>\n",
       "      <td>2017-05-12 16:04:24</td>\n",
       "      <td>259.83</td>\n",
       "      <td>2017</td>\n",
       "      <td>5</td>\n",
       "      <td>eb28e67c4c0b83846050ddfb8a35d051</td>\n",
       "      <td>15775</td>\n",
       "      <td>santa fe do sul</td>\n",
       "      <td>SP</td>\n",
       "    </tr>\n",
       "    <tr>\n",
       "      <th>2</th>\n",
       "      <td>000229ec398224ef6ca0657da4fc703e</td>\n",
       "      <td>1</td>\n",
       "      <td>199.00</td>\n",
       "      <td>17.87</td>\n",
       "      <td>216.87</td>\n",
       "      <td>2018-01-14 14:33:31</td>\n",
       "      <td>6489ae5e4333f3693df5ad4372dab6d3</td>\n",
       "      <td>2018-01-22 13:19:16</td>\n",
       "      <td>216.87</td>\n",
       "      <td>2018</td>\n",
       "      <td>1</td>\n",
       "      <td>3818d81c6709e39d06b2738a8d3a2474</td>\n",
       "      <td>35661</td>\n",
       "      <td>para de minas</td>\n",
       "      <td>MG</td>\n",
       "    </tr>\n",
       "    <tr>\n",
       "      <th>3</th>\n",
       "      <td>00024acbcdf0a6daa1e931b038114c75</td>\n",
       "      <td>1</td>\n",
       "      <td>12.99</td>\n",
       "      <td>12.79</td>\n",
       "      <td>25.78</td>\n",
       "      <td>2018-08-08 10:00:35</td>\n",
       "      <td>d4eb9395c8c0431ee92fce09860c5a06</td>\n",
       "      <td>2018-08-14 13:32:39</td>\n",
       "      <td>25.78</td>\n",
       "      <td>2018</td>\n",
       "      <td>8</td>\n",
       "      <td>af861d436cfc08b2c2ddefd0ba074622</td>\n",
       "      <td>12952</td>\n",
       "      <td>atibaia</td>\n",
       "      <td>SP</td>\n",
       "    </tr>\n",
       "    <tr>\n",
       "      <th>4</th>\n",
       "      <td>00042b26cf59d7ce69dfabb4e55b4fd9</td>\n",
       "      <td>1</td>\n",
       "      <td>199.90</td>\n",
       "      <td>18.14</td>\n",
       "      <td>218.04</td>\n",
       "      <td>2017-02-04 13:57:51</td>\n",
       "      <td>58dbd0b2d70206bf40e62cd34e84d795</td>\n",
       "      <td>2017-03-01 16:42:31</td>\n",
       "      <td>218.04</td>\n",
       "      <td>2017</td>\n",
       "      <td>3</td>\n",
       "      <td>64b576fb70d441e8f1b2d7d446e483c5</td>\n",
       "      <td>13226</td>\n",
       "      <td>varzea paulista</td>\n",
       "      <td>SP</td>\n",
       "    </tr>\n",
       "    <tr>\n",
       "      <th>...</th>\n",
       "      <td>...</td>\n",
       "      <td>...</td>\n",
       "      <td>...</td>\n",
       "      <td>...</td>\n",
       "      <td>...</td>\n",
       "      <td>...</td>\n",
       "      <td>...</td>\n",
       "      <td>...</td>\n",
       "      <td>...</td>\n",
       "      <td>...</td>\n",
       "      <td>...</td>\n",
       "      <td>...</td>\n",
       "      <td>...</td>\n",
       "      <td>...</td>\n",
       "      <td>...</td>\n",
       "    </tr>\n",
       "    <tr>\n",
       "      <th>100702</th>\n",
       "      <td>fffc94f6ce00a00581880bf54a75a037</td>\n",
       "      <td>1</td>\n",
       "      <td>299.99</td>\n",
       "      <td>43.41</td>\n",
       "      <td>343.40</td>\n",
       "      <td>2018-04-23 13:57:06</td>\n",
       "      <td>b51593916b4b8e0d6f66f2ae24f2673d</td>\n",
       "      <td>2018-05-10 22:56:40</td>\n",
       "      <td>343.40</td>\n",
       "      <td>2018</td>\n",
       "      <td>5</td>\n",
       "      <td>0c9aeda10a71f369396d0c04dce13a64</td>\n",
       "      <td>65077</td>\n",
       "      <td>sao luis</td>\n",
       "      <td>MA</td>\n",
       "    </tr>\n",
       "    <tr>\n",
       "      <th>100703</th>\n",
       "      <td>fffcd46ef2263f404302a634eb57f7eb</td>\n",
       "      <td>1</td>\n",
       "      <td>350.00</td>\n",
       "      <td>36.53</td>\n",
       "      <td>386.53</td>\n",
       "      <td>2018-07-14 10:26:46</td>\n",
       "      <td>84c5d4fbaf120aae381fad077416eaa0</td>\n",
       "      <td>2018-07-23 20:31:55</td>\n",
       "      <td>386.53</td>\n",
       "      <td>2018</td>\n",
       "      <td>7</td>\n",
       "      <td>0da9fe112eae0c74d3ba1fe16de0988b</td>\n",
       "      <td>81690</td>\n",
       "      <td>curitiba</td>\n",
       "      <td>PR</td>\n",
       "    </tr>\n",
       "    <tr>\n",
       "      <th>100704</th>\n",
       "      <td>fffce4705a9662cd70adb13d4a31832d</td>\n",
       "      <td>1</td>\n",
       "      <td>99.90</td>\n",
       "      <td>16.95</td>\n",
       "      <td>116.85</td>\n",
       "      <td>2017-10-23 17:07:56</td>\n",
       "      <td>29309aa813182aaddc9b259e31b870e6</td>\n",
       "      <td>2017-10-28 12:22:22</td>\n",
       "      <td>116.85</td>\n",
       "      <td>2017</td>\n",
       "      <td>10</td>\n",
       "      <td>cd79b407828f02fdbba457111c38e4c4</td>\n",
       "      <td>4039</td>\n",
       "      <td>sao paulo</td>\n",
       "      <td>SP</td>\n",
       "    </tr>\n",
       "    <tr>\n",
       "      <th>100705</th>\n",
       "      <td>fffe18544ffabc95dfada21779c9644f</td>\n",
       "      <td>1</td>\n",
       "      <td>55.99</td>\n",
       "      <td>8.72</td>\n",
       "      <td>64.71</td>\n",
       "      <td>2017-08-14 23:02:59</td>\n",
       "      <td>b5e6afd5a41800fdf401e0272ca74655</td>\n",
       "      <td>2017-08-16 21:59:40</td>\n",
       "      <td>64.71</td>\n",
       "      <td>2017</td>\n",
       "      <td>8</td>\n",
       "      <td>eb803377c9315b564bdedad672039306</td>\n",
       "      <td>13289</td>\n",
       "      <td>vinhedo</td>\n",
       "      <td>SP</td>\n",
       "    </tr>\n",
       "    <tr>\n",
       "      <th>100706</th>\n",
       "      <td>fffe41c64501cc87c801fd61db3f6244</td>\n",
       "      <td>1</td>\n",
       "      <td>43.00</td>\n",
       "      <td>12.79</td>\n",
       "      <td>55.79</td>\n",
       "      <td>2018-06-09 17:00:18</td>\n",
       "      <td>96d649da0cc4ff33bb408b199d4c7dcf</td>\n",
       "      <td>2018-06-14 17:56:26</td>\n",
       "      <td>55.79</td>\n",
       "      <td>2018</td>\n",
       "      <td>6</td>\n",
       "      <td>cd76a00d8e3ca5e6ab9ed9ecb6667ac4</td>\n",
       "      <td>18605</td>\n",
       "      <td>botucatu</td>\n",
       "      <td>SP</td>\n",
       "    </tr>\n",
       "  </tbody>\n",
       "</table>\n",
       "<p>100707 rows × 15 columns</p>\n",
       "</div>"
      ],
      "text/plain": [
       "                                order_id  item_count  total_price  \\\n",
       "0       00010242fe8c5a6d1ba2dd792cb16214           1        58.90   \n",
       "1       00018f77f2f0320c557190d7a144bdd3           1       239.90   \n",
       "2       000229ec398224ef6ca0657da4fc703e           1       199.00   \n",
       "3       00024acbcdf0a6daa1e931b038114c75           1        12.99   \n",
       "4       00042b26cf59d7ce69dfabb4e55b4fd9           1       199.90   \n",
       "...                                  ...         ...          ...   \n",
       "100702  fffc94f6ce00a00581880bf54a75a037           1       299.99   \n",
       "100703  fffcd46ef2263f404302a634eb57f7eb           1       350.00   \n",
       "100704  fffce4705a9662cd70adb13d4a31832d           1        99.90   \n",
       "100705  fffe18544ffabc95dfada21779c9644f           1        55.99   \n",
       "100706  fffe41c64501cc87c801fd61db3f6244           1        43.00   \n",
       "\n",
       "        total_freight  total_cost                 data  \\\n",
       "0               13.29       72.19  2017-09-13 08:59:02   \n",
       "1               19.93      259.83  2017-04-26 10:53:06   \n",
       "2               17.87      216.87  2018-01-14 14:33:31   \n",
       "3               12.79       25.78  2018-08-08 10:00:35   \n",
       "4               18.14      218.04  2017-02-04 13:57:51   \n",
       "...               ...         ...                  ...   \n",
       "100702          43.41      343.40  2018-04-23 13:57:06   \n",
       "100703          36.53      386.53  2018-07-14 10:26:46   \n",
       "100704          16.95      116.85  2017-10-23 17:07:56   \n",
       "100705           8.72       64.71  2017-08-14 23:02:59   \n",
       "100706          12.79       55.79  2018-06-09 17:00:18   \n",
       "\n",
       "                             customer_id order_delivered_customer_date  \\\n",
       "0       3ce436f183e68e07877b285a838db11a           2017-09-20 23:43:48   \n",
       "1       f6dd3ec061db4e3987629fe6b26e5cce           2017-05-12 16:04:24   \n",
       "2       6489ae5e4333f3693df5ad4372dab6d3           2018-01-22 13:19:16   \n",
       "3       d4eb9395c8c0431ee92fce09860c5a06           2018-08-14 13:32:39   \n",
       "4       58dbd0b2d70206bf40e62cd34e84d795           2017-03-01 16:42:31   \n",
       "...                                  ...                           ...   \n",
       "100702  b51593916b4b8e0d6f66f2ae24f2673d           2018-05-10 22:56:40   \n",
       "100703  84c5d4fbaf120aae381fad077416eaa0           2018-07-23 20:31:55   \n",
       "100704  29309aa813182aaddc9b259e31b870e6           2017-10-28 12:22:22   \n",
       "100705  b5e6afd5a41800fdf401e0272ca74655           2017-08-16 21:59:40   \n",
       "100706  96d649da0cc4ff33bb408b199d4c7dcf           2018-06-14 17:56:26   \n",
       "\n",
       "        payment_value  year  month                customer_unique_id  \\\n",
       "0               72.19  2017      9  871766c5855e863f6eccc05f988b23cb   \n",
       "1              259.83  2017      5  eb28e67c4c0b83846050ddfb8a35d051   \n",
       "2              216.87  2018      1  3818d81c6709e39d06b2738a8d3a2474   \n",
       "3               25.78  2018      8  af861d436cfc08b2c2ddefd0ba074622   \n",
       "4              218.04  2017      3  64b576fb70d441e8f1b2d7d446e483c5   \n",
       "...               ...   ...    ...                               ...   \n",
       "100702         343.40  2018      5  0c9aeda10a71f369396d0c04dce13a64   \n",
       "100703         386.53  2018      7  0da9fe112eae0c74d3ba1fe16de0988b   \n",
       "100704         116.85  2017     10  cd79b407828f02fdbba457111c38e4c4   \n",
       "100705          64.71  2017      8  eb803377c9315b564bdedad672039306   \n",
       "100706          55.79  2018      6  cd76a00d8e3ca5e6ab9ed9ecb6667ac4   \n",
       "\n",
       "        customer_zip_code_prefix          customer_city customer_state  \n",
       "0                          28013  campos dos goytacazes             RJ  \n",
       "1                          15775        santa fe do sul             SP  \n",
       "2                          35661          para de minas             MG  \n",
       "3                          12952                atibaia             SP  \n",
       "4                          13226        varzea paulista             SP  \n",
       "...                          ...                    ...            ...  \n",
       "100702                     65077               sao luis             MA  \n",
       "100703                     81690               curitiba             PR  \n",
       "100704                      4039              sao paulo             SP  \n",
       "100705                     13289                vinhedo             SP  \n",
       "100706                     18605               botucatu             SP  \n",
       "\n",
       "[100707 rows x 15 columns]"
      ]
     },
     "execution_count": 60,
     "metadata": {},
     "output_type": "execute_result"
    }
   ],
   "source": [
    "loc_sales"
   ]
  },
  {
   "cell_type": "code",
   "execution_count": 61,
   "id": "8be4e9e0-fb6b-45d6-8e7d-e05125806a64",
   "metadata": {},
   "outputs": [],
   "source": [
    "#热力图\n",
    "loc_sales1=loc_sales.groupby('customer_state')['total_cost'].sum().reset_index()\n"
   ]
  },
  {
   "cell_type": "code",
   "execution_count": 62,
   "id": "9fb75068-0782-4585-8db8-3302030cf5f6",
   "metadata": {
    "scrolled": true
   },
   "outputs": [
    {
     "data": {
      "text/plain": [
       "<Axes: ylabel='customer_state'>"
      ]
     },
     "execution_count": 62,
     "metadata": {},
     "output_type": "execute_result"
    },
    {
     "data": {
      "image/png": "[encoded data removed]",
      "text/plain": [
       "<Figure size 640x480 with 2 Axes>"
      ]
     },
     "metadata": {},
     "output_type": "display_data"
    }
   ],
   "source": [
    "# sns.heatmap(loc_sales1, annot=True, cmap='coolwarm', fmt=\".2f\")\n",
    "sns.heatmap(loc_sales1.set_index('customer_state'), annot=True, cmap='YlGnBu')"
   ]
  },
  {
   "cell_type": "code",
   "execution_count": 63,
   "id": "3deaa31e-309b-4195-8e04-857eac254858",
   "metadata": {},
   "outputs": [],
   "source": [
    "# import plotly.express as px\n",
    "# import geopandas as gpd\n",
    "# zip_code['customer_zip_code_prefix']=zip_code['geolocation_zip_code_prefix']\n",
    "# #精细地图式\n",
    "# loc_sales2=pd.merge(loc_sales,zip_code,on='customer_zip_code_prefix')#连接地图坐标"
   ]
  },
  {
   "cell_type": "code",
   "execution_count": 64,
   "id": "bb703162-8944-4a72-8c03-c36488b40faa",
   "metadata": {},
   "outputs": [],
   "source": [
    "# # fig = px.density_mapbox(loc_sales2,\n",
    "# #                         lat='geolocation_lat',\n",
    "# #                         lon='geolocation_lng',\n",
    "# #                         z='total_cost',\n",
    "# #                         radius=30,  # 热力半径\n",
    "# #                         center=dict(lat=-23, lon=-46),  # 地图中心\n",
    "# #                         zoom=3,     # 缩放级别\n",
    "# #                         mapbox_style=\"stamen-terrain\",  # 地图样式\n",
    "# #                         title='地区销售额热力图')\n",
    "# # fig.show()\n",
    "# # 假设 loc_sales2 是你的数据框，包含 'geolocation_lat', 'geolocation_lng', 和 'total_cost' 列\n",
    "# import plotly.express as px\n",
    "###有些许问题\n",
    "# # 生成热力图\n",
    "# fig = px.density_map(\n",
    "#     loc_sales2,\n",
    "#     lat='geolocation_lat',\n",
    "#     lon='geolocation_lng',\n",
    "#     z='total_cost',\n",
    "#     radius=30,  # 热力半径\n",
    "#     title='地区销售额热力图'\n",
    "# )\n",
    "\n",
    "# # 配置地图样式、中心和缩放级别\n",
    "# fig.update_layout(\n",
    "#     mapbox_style=\"carto-positron\",  # 可选地图样式：carto-positron, carto-darkmatter, stamen-terrain 等\n",
    "#     mapbox_center={\"lat\": -23, \"lon\": -46},  # 设置地图中心\n",
    "#     mapbox_zoom=3  # 设置缩放级别\n",
    "# )\n",
    "\n",
    "# # 如果需要使用 Mapbox 付费样式（如 satellite-streets），需提供 access token\n",
    "# # fig.update_layout(\n",
    "# #     mapbox_style=\"mapbox://styles/mapbox/satellite-streets-v11\",\n",
    "# #     mapbox_access_token=\"your_mapbox_token\"  # 替换为你的 Mapbox Token\n",
    "# # )\n",
    "\n",
    "# fig.show()\n"
   ]
  },
  {
   "cell_type": "code",
   "execution_count": null,
   "id": "d374689e-0af1-49c0-a352-f2b70196e4b1",
   "metadata": {},
   "outputs": [],
   "source": []
  },
  {
   "cell_type": "code",
   "execution_count": null,
   "id": "95af83c3-70a2-4cbd-a325-4649e9709e7b",
   "metadata": {},
   "outputs": [],
   "source": []
  },
  {
   "cell_type": "code",
   "execution_count": null,
   "id": "8b820642-b4bd-4cb8-999c-92455ecd0d51",
   "metadata": {},
   "outputs": [],
   "source": []
  },
  {
   "cell_type": "code",
   "execution_count": null,
   "id": "39505efe-1865-41ec-8043-5b2283589f75",
   "metadata": {},
   "outputs": [],
   "source": []
  }
 ],
 "metadata": {
  "kernelspec": {
   "display_name": "Python 3 (ipykernel)",
   "language": "python",
   "name": "python3"
  },
  "language_info": {
   "codemirror_mode": {
    "name": "ipython",
    "version": 3
   },
   "file_extension": ".py",
   "mimetype": "text/x-python",
   "name": "python",
   "nbconvert_exporter": "python",
   "pygments_lexer": "ipython3",
   "version": "3.12.2"
  }
 },
 "nbformat": 4,
 "nbformat_minor": 5
}
